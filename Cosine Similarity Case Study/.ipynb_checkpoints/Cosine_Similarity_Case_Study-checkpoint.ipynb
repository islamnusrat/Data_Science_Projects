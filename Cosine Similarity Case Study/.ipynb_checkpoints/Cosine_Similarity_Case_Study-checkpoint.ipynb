{
 "cells": [
  {
   "cell_type": "markdown",
   "metadata": {
    "colab_type": "text",
    "id": "eNSkSfKvSXEE"
   },
   "source": [
    "## Cosine Similarity Calculations\n",
    "Cosine similarity is a measure of similarity between two non-zero vectors of an inner product space that measures the cosine of the angle between them. Similarity measures have a multiude of uses in machine learning projects; they come in handy when matching strings, measuring distance, and extracting features. This similarity measurement is particularly concerned with orientation, rather than magnitude. \n",
    "In this case study, you'll use the cosine similarity to compare both a numeric data within a plane and a text dataset for string matching."
   ]
  },
  {
   "cell_type": "markdown",
   "metadata": {
    "colab_type": "text",
    "id": "USGZdZYoVu7A"
   },
   "source": [
    "Load the Python modules, including cosine_similarity, from sklearn.metrics.pairwise"
   ]
  },
  {
   "cell_type": "code",
   "execution_count": 1,
   "metadata": {
    "colab": {},
    "colab_type": "code",
    "id": "_T-FTjWuSXEF"
   },
   "outputs": [],
   "source": [
    "import numpy as np\n",
    "import pandas as pd\n",
    "import matplotlib.pyplot as plt\n",
    "import matplotlib.cm as cm\n",
    "%matplotlib inline\n",
    "plt.style.use('ggplot')\n",
    "from scipy import spatial\n",
    "from sklearn.metrics.pairwise import cosine_similarity"
   ]
  },
  {
   "cell_type": "markdown",
   "metadata": {
    "colab_type": "text",
    "id": "woBv3-cmV1R6"
   },
   "source": [
    "**<font color='teal'> Load the distance dataset into a dataframe. </font>**"
   ]
  },
  {
   "cell_type": "code",
   "execution_count": 2,
   "metadata": {
    "colab": {},
    "colab_type": "code",
    "id": "irpsaCuGSXEK"
   },
   "outputs": [
    {
     "data": {
      "text/html": [
       "<div>\n",
       "<style scoped>\n",
       "    .dataframe tbody tr th:only-of-type {\n",
       "        vertical-align: middle;\n",
       "    }\n",
       "\n",
       "    .dataframe tbody tr th {\n",
       "        vertical-align: top;\n",
       "    }\n",
       "\n",
       "    .dataframe thead th {\n",
       "        text-align: right;\n",
       "    }\n",
       "</style>\n",
       "<table border=\"1\" class=\"dataframe\">\n",
       "  <thead>\n",
       "    <tr style=\"text-align: right;\">\n",
       "      <th></th>\n",
       "      <th>X</th>\n",
       "      <th>Y</th>\n",
       "      <th>Z</th>\n",
       "      <th>ClusterID</th>\n",
       "    </tr>\n",
       "  </thead>\n",
       "  <tbody>\n",
       "    <tr>\n",
       "      <th>0</th>\n",
       "      <td>5.135779</td>\n",
       "      <td>4.167542</td>\n",
       "      <td>5.787635</td>\n",
       "      <td>4</td>\n",
       "    </tr>\n",
       "    <tr>\n",
       "      <th>1</th>\n",
       "      <td>4.280721</td>\n",
       "      <td>5.770909</td>\n",
       "      <td>6.091044</td>\n",
       "      <td>4</td>\n",
       "    </tr>\n",
       "    <tr>\n",
       "      <th>2</th>\n",
       "      <td>8.329098</td>\n",
       "      <td>7.540436</td>\n",
       "      <td>3.247239</td>\n",
       "      <td>2</td>\n",
       "    </tr>\n",
       "    <tr>\n",
       "      <th>3</th>\n",
       "      <td>5.470224</td>\n",
       "      <td>5.069249</td>\n",
       "      <td>5.768313</td>\n",
       "      <td>4</td>\n",
       "    </tr>\n",
       "    <tr>\n",
       "      <th>4</th>\n",
       "      <td>2.381797</td>\n",
       "      <td>2.402374</td>\n",
       "      <td>3.879101</td>\n",
       "      <td>1</td>\n",
       "    </tr>\n",
       "  </tbody>\n",
       "</table>\n",
       "</div>"
      ],
      "text/plain": [
       "          X         Y         Z  ClusterID\n",
       "0  5.135779  4.167542  5.787635          4\n",
       "1  4.280721  5.770909  6.091044          4\n",
       "2  8.329098  7.540436  3.247239          2\n",
       "3  5.470224  5.069249  5.768313          4\n",
       "4  2.381797  2.402374  3.879101          1"
      ]
     },
     "execution_count": 2,
     "metadata": {},
     "output_type": "execute_result"
    }
   ],
   "source": [
    "df = pd.read_csv('distance_dataset.csv',index_col=0)\n",
    "df.head()"
   ]
  },
  {
   "cell_type": "markdown",
   "metadata": {
    "colab_type": "text",
    "id": "WWd4xbk1SXEO"
   },
   "source": [
    "### Cosine Similarity with clusters and numeric matrices\n",
    "\n",
    "All points in our dataset can be thought of as feature vectors. We illustrate it here as we display the __Cosine Similarity__ between each feature vector in the YZ plane and the [5, 5] vector we chose as reference. The sklearn.metrics.pairwise module provides an efficient way to compute the __cosine_similarity__ for large arrays from which we can compute the similarity."
   ]
  },
  {
   "cell_type": "markdown",
   "metadata": {
    "colab_type": "text",
    "id": "NeRvhNjLWaau"
   },
   "source": [
    " **<font color='teal'> First, create a 2D and a 3D matrix from the dataframe. The 2D matrix should contain the 'Y' and 'Z' columns and the 3D matrix should contain the 'X','Y', and 'Z' columns.</font>**"
   ]
  },
  {
   "cell_type": "code",
   "execution_count": 3,
   "metadata": {
    "colab": {},
    "colab_type": "code",
    "id": "aWkrVP8dWqZ-"
   },
   "outputs": [
    {
     "ename": "NameError",
     "evalue": "name 'data' is not defined",
     "output_type": "error",
     "traceback": [
      "\u001b[1;31m---------------------------------------------------------------------------\u001b[0m",
      "\u001b[1;31mNameError\u001b[0m                                 Traceback (most recent call last)",
      "\u001b[1;32m<ipython-input-3-91385e174ed4>\u001b[0m in \u001b[0;36m<module>\u001b[1;34m\u001b[0m\n\u001b[1;32m----> 1\u001b[1;33m \u001b[0mmatYZ\u001b[0m \u001b[1;33m=\u001b[0m \u001b[0mnp\u001b[0m\u001b[1;33m.\u001b[0m\u001b[0marray\u001b[0m\u001b[1;33m(\u001b[0m\u001b[1;33m[\u001b[0m\u001b[0mdata\u001b[0m\u001b[1;33m.\u001b[0m\u001b[0mY\u001b[0m\u001b[1;33m,\u001b[0m\u001b[0mdata\u001b[0m\u001b[1;33m.\u001b[0m\u001b[0mZ\u001b[0m\u001b[1;33m]\u001b[0m\u001b[1;33m)\u001b[0m\u001b[1;33m.\u001b[0m\u001b[0mT\u001b[0m\u001b[1;33m\u001b[0m\u001b[1;33m\u001b[0m\u001b[0m\n\u001b[0m\u001b[0;32m      2\u001b[0m \u001b[0mmat\u001b[0m \u001b[1;33m=\u001b[0m \u001b[0mnp\u001b[0m\u001b[1;33m.\u001b[0m\u001b[0marray\u001b[0m\u001b[1;33m(\u001b[0m\u001b[1;33m[\u001b[0m\u001b[0mdata\u001b[0m\u001b[1;33m.\u001b[0m\u001b[0mX\u001b[0m\u001b[1;33m,\u001b[0m\u001b[0mdata\u001b[0m\u001b[1;33m.\u001b[0m\u001b[0mY\u001b[0m\u001b[1;33m,\u001b[0m\u001b[0mdata\u001b[0m\u001b[1;33m.\u001b[0m\u001b[0mZ\u001b[0m\u001b[1;33m]\u001b[0m\u001b[1;33m)\u001b[0m\u001b[1;33m.\u001b[0m\u001b[0mT\u001b[0m\u001b[1;33m\u001b[0m\u001b[1;33m\u001b[0m\u001b[0m\n",
      "\u001b[1;31mNameError\u001b[0m: name 'data' is not defined"
     ]
    }
   ],
   "source": [
    "matYZ = np.array([data.Y,data.Z]).T\n",
    "mat = np.array([data.X,data.Y,data.Z]).T"
   ]
  },
  {
   "cell_type": "markdown",
   "metadata": {
    "colab_type": "text",
    "id": "HlRZpDfzXJR9"
   },
   "source": [
    "Calculate the cosine similarity for those matrices with reference planes of 5,5 and 5,5,5. Then subtract those measures from 1 in new features."
   ]
  },
  {
   "cell_type": "code",
   "execution_count": null,
   "metadata": {
    "colab": {},
    "colab_type": "code",
    "id": "QmKPcdIjSXEP"
   },
   "outputs": [],
   "source": [
    "simCosine3D = 1. - cosine_similarity(mat, [[5,5,5]], 'cosine')\n",
    "simCosine = 1. - cosine_similarity(matYZ, [[5,5]], 'cosine')"
   ]
  },
  {
   "cell_type": "markdown",
   "metadata": {
    "colab_type": "text",
    "id": "EieVXBAcX0OU"
   },
   "source": [
    "Using the 2D matrix and the reference plane of (5,5) we can use a scatter plot to view the way the similarity is calculated using the Cosine angle."
   ]
  },
  {
   "cell_type": "code",
   "execution_count": null,
   "metadata": {
    "colab": {},
    "colab_type": "code",
    "id": "Oga4-0A6SXEY"
   },
   "outputs": [],
   "source": [
    "figCosine = plt.figure(figsize=[10,8])\n",
    "\n",
    "plt.scatter(df.Y, df.Z, c=simCosine[:,0], s=20)\n",
    "plt.plot([0,5],[0,5], '--', color='dimgray')\n",
    "plt.plot([0,3],[0,7.2], '--', color='dimgray')\n",
    "plt.text(0.7,2.6,r'$\\theta$ = 22.4 deg.', rotation=47, size=14)\n",
    "plt.ylim([0,10])\n",
    "plt.xlim([0,10])\n",
    "plt.xlabel('Y', size=14)\n",
    "plt.ylabel('Z', size=14)\n",
    "plt.title('Cosine Similarity')\n",
    "cb = plt.colorbar()\n",
    "cb.set_label('Similarity with (5,5)', size=14)\n",
    "\n",
    "#figCosine.savefig('similarity-cosine.png')"
   ]
  },
  {
   "cell_type": "markdown",
   "metadata": {
    "colab_type": "text",
    "id": "h5EERbkYXioh"
   },
   "source": [
    "Now, plot the 3D matrix with the similarity and the reference plane, (5,5,5)."
   ]
  },
  {
   "cell_type": "code",
   "execution_count": null,
   "metadata": {
    "colab": {},
    "colab_type": "code",
    "id": "-f3ZhgoQSXEV"
   },
   "outputs": [],
   "source": [
    "from mpl_toolkits.mplot3d import Axes3D\n",
    "figCosine3D = plt.figure(figsize=(10, 8))\n",
    "ax = figCosine3D.add_subplot(111, projection='3d')\n",
    "\n",
    "p = ax.scatter(mat[:,0], mat[:,1], mat[:,2], c=simCosine3D[:,0])\n",
    "ax.set_xlabel('X')\n",
    "ax.set_ylabel('Y')\n",
    "ax.set_zlabel('Z')\n",
    "cb = figCosine3D.colorbar(p)\n",
    "cb.set_label('Similarity with (5,5,5)', size=14)\n",
    "                                   \n",
    "figCosine3D.tight_layout()\n",
    "#figCosine3D.savefig('cosine-3D.png', dpi=300, transparent=True)"
   ]
  },
  {
   "cell_type": "markdown",
   "metadata": {
    "colab_type": "text",
    "id": "_ysZ1wFMSXEt"
   },
   "source": [
    "----"
   ]
  },
  {
   "cell_type": "markdown",
   "metadata": {
    "colab_type": "text",
    "id": "jGJ2vr60SXEu"
   },
   "source": [
    "### Cosine Similarity with text data\n",
    "This is a quick example of how you can use Cosine Similarity to compare different text values or names for record matching or other natural language proecessing needs. \n",
    "First, we use count vectorizer to create a vector for each unique word in our Document 0 and Document 1. "
   ]
  },
  {
   "cell_type": "code",
   "execution_count": null,
   "metadata": {
    "colab": {},
    "colab_type": "code",
    "id": "7oSm7linSXEv"
   },
   "outputs": [],
   "source": [
    "from sklearn.feature_extraction.text import CountVectorizer\n",
    "count_vect = CountVectorizer()\n",
    "Document1 = \"Starbucks Coffee\"\n",
    "Document2 = \"Essence of Coffee\"\n",
    "\n",
    "corpus = [Document1,Document2]\n",
    "\n",
    "X_train_counts = count_vect.fit_transform(corpus)\n",
    "\n",
    "pd.DataFrame(X_train_counts.toarray(),columns=count_vect.get_feature_names(),index=['Document 0','Document 1'])"
   ]
  },
  {
   "cell_type": "markdown",
   "metadata": {
    "colab_type": "text",
    "id": "W99LBHobSXE1"
   },
   "source": [
    "Now, we use a common frequency tool called TF-IDF to convert the vectors to unique measures."
   ]
  },
  {
   "cell_type": "code",
   "execution_count": null,
   "metadata": {
    "colab": {},
    "colab_type": "code",
    "id": "mA52-mj9SXE1"
   },
   "outputs": [],
   "source": [
    "from sklearn.feature_extraction.text import TfidfVectorizer\n",
    "vectorizer = TfidfVectorizer()\n",
    "trsfm=vectorizer.fit_transform(corpus)\n",
    "pd.DataFrame(trsfm.toarray(),columns=vectorizer.get_feature_names(),index=['Document 0','Document 1'])"
   ]
  },
  {
   "cell_type": "markdown",
   "metadata": {
    "colab_type": "text",
    "id": "8T8ZOVnLSXE4"
   },
   "source": [
    "Here, we finally apply the __Cosine Similarity__ measure to calculate how similar Document 0 is compared to any other document in the corpus. Therefore, the first value of 1 is showing that the Document 0 is 100% similar to Document 0 and 0.26055576 is the similarity measure between Document 0 and Document 1."
   ]
  },
  {
   "cell_type": "code",
   "execution_count": null,
   "metadata": {
    "colab": {},
    "colab_type": "code",
    "id": "ZLbYTQfnSXE4"
   },
   "outputs": [],
   "source": [
    "cosine_similarity(trsfm[0:1], trsfm)"
   ]
  },
  {
   "cell_type": "markdown",
   "metadata": {
    "colab_type": "text",
    "id": "uSDf5EgJatlw"
   },
   "source": [
    "Replace the current values for `Document 0` and `Document 1` with your own sentence or paragraph and apply the same steps as we did in the above example."
   ]
  },
  {
   "cell_type": "markdown",
   "metadata": {
    "colab_type": "text",
    "id": "S9FESS0IbF9I"
   },
   "source": [
    " **<font color='teal'> Combine the documents into a corpus.</font>**"
   ]
  },
  {
   "cell_type": "code",
   "execution_count": null,
   "metadata": {
    "colab": {},
    "colab_type": "code",
    "id": "7aVkjj-xczS-"
   },
   "outputs": [],
   "source": [
    "Document1 = \"Amazon has good prices\"\n",
    "Document2 = \"The blinds are not working\"\n",
    "\n",
    "corpus = [Document1,Document2]"
   ]
  },
  {
   "cell_type": "markdown",
   "metadata": {
    "colab_type": "text",
    "id": "Bng2fLV_bR-V"
   },
   "source": [
    " **<font color='teal'> Apply the count vectorizer to the corpus to transform it into vectors.</font>**"
   ]
  },
  {
   "cell_type": "code",
   "execution_count": null,
   "metadata": {
    "colab": {},
    "colab_type": "code",
    "id": "FtW2_TcJczuh"
   },
   "outputs": [],
   "source": [
    "X_train_counts = count_vect.fit_transform(corpus)"
   ]
  },
  {
   "cell_type": "markdown",
   "metadata": {
    "colab_type": "text",
    "id": "55i9xWTYbc-r"
   },
   "source": [
    " **<font color='teal'> Convert the vector counts to a dataframe with Pandas.</font>**"
   ]
  },
  {
   "cell_type": "code",
   "execution_count": null,
   "metadata": {
    "colab": {},
    "colab_type": "code",
    "id": "OaXsheskc0Ql"
   },
   "outputs": [],
   "source": [
    "pd.DataFrame(X_train_counts.toarray(),columns=count_vect.get_feature_names(),index=['Document 0','Document 1'])"
   ]
  },
  {
   "cell_type": "markdown",
   "metadata": {
    "colab_type": "text",
    "id": "dONg4uupcJAK"
   },
   "source": [
    " **<font color='teal'> Apply TF-IDF to convert the vectors to unique frequency measures.</font>**"
   ]
  },
  {
   "cell_type": "code",
   "execution_count": null,
   "metadata": {
    "colab": {},
    "colab_type": "code",
    "id": "o2z2p_kMc1mF"
   },
   "outputs": [],
   "source": [
    "vectorizer = TfidfVectorizer()\n",
    "trsfm=vectorizer.fit_transform(corpus)\n",
    "pd.DataFrame(trsfm.toarray(),columns=vectorizer.get_feature_names(),index=['Document 0','Document 1'])"
   ]
  },
  {
   "cell_type": "markdown",
   "metadata": {
    "colab_type": "text",
    "id": "wd1JHVSxcl1D"
   },
   "source": [
    " **<font color='teal'> Use the cosine similarity function to get measures of similarity for the sentences or paragraphs in your original document.</font>**"
   ]
  },
  {
   "cell_type": "code",
   "execution_count": null,
   "metadata": {
    "colab": {},
    "colab_type": "code",
    "id": "sJdk5sX5bcPO"
   },
   "outputs": [],
   "source": [
    "cosine_similarity(trsfm[0:1], trsfm)"
   ]
  }
 ],
 "metadata": {
  "anaconda-cloud": {},
  "colab": {
   "name": "Cosine Similarity.ipynb",
   "provenance": []
  },
  "kernelspec": {
   "display_name": "Python 3",
   "language": "python",
   "name": "python3"
  },
  "language_info": {
   "codemirror_mode": {
    "name": "ipython",
    "version": 3
   },
   "file_extension": ".py",
   "mimetype": "text/x-python",
   "name": "python",
   "nbconvert_exporter": "python",
   "pygments_lexer": "ipython3",
   "version": "3.8.3"
  }
 },
 "nbformat": 4,
 "nbformat_minor": 1
}
